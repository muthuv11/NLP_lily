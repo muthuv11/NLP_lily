{
  "nbformat": 4,
  "nbformat_minor": 0,
  "metadata": {
    "colab": {
      "name": "NLP_caseStudy.ipynb",
      "provenance": [],
      "collapsed_sections": [],
      "authorship_tag": "ABX9TyOzsKASZT4zrMAww86HXUT7",
      "include_colab_link": true
    },
    "kernelspec": {
      "name": "python3",
      "display_name": "Python 3"
    }
  },
  "cells": [
    {
      "cell_type": "markdown",
      "metadata": {
        "id": "view-in-github",
        "colab_type": "text"
      },
      "source": [
        "<a href=\"https://colab.research.google.com/github/muthuv11/NLP_lily/blob/master/NLP_caseStudy.ipynb\" target=\"_parent\"><img src=\"https://colab.research.google.com/assets/colab-badge.svg\" alt=\"Open In Colab\"/></a>"
      ]
    },
    {
      "cell_type": "markdown",
      "metadata": {
        "id": "WAKkZrAxEziC",
        "colab_type": "text"
      },
      "source": [
        "# Problem Statement\n",
        "To predict the sentiment from the provided twitter tweet dataset.\n",
        "\n",
        "6+1 features provided.\n",
        "\n",
        "tweet_id, name, text, tweet_created, tweet_location, user_timezone - sentiment"
      ]
    },
    {
      "cell_type": "markdown",
      "metadata": {
        "id": "cgIHyf4jF48z",
        "colab_type": "text"
      },
      "source": [
        "# Assumptions\n",
        "\n",
        "Supervised model"
      ]
    },
    {
      "cell_type": "markdown",
      "metadata": {
        "id": "-LeF0x_7GqBh",
        "colab_type": "text"
      },
      "source": [
        "# Dependencies"
      ]
    },
    {
      "cell_type": "code",
      "metadata": {
        "id": "hFvk4e38GvQN",
        "colab_type": "code",
        "colab": {
          "base_uri": "https://localhost:8080/",
          "height": 252
        },
        "outputId": "218eff0c-f967-4518-dbac-34ca39fda6fe"
      },
      "source": [
        "import pandas as pd\n",
        "import matplotlib.pyplot as plt\n",
        "import seaborn as sns\n",
        "import unicodedata\n",
        "import numpy as np\n",
        "import re\n",
        "import spacy\n",
        "from wordcloud import WordCloud\n",
        "from nltk.stem import WordNetLemmatizer\n",
        "from nltk.tokenize import word_tokenize\n",
        "\n",
        "\n",
        "\n",
        "\n",
        "!pip install contractions\n",
        "!pip install textsearch\n",
        "\n",
        "nltk.download('stopwords')\n",
        "nltk.download('punkt')\n",
        "nltk.download('wordnet')"
      ],
      "execution_count": 213,
      "outputs": [
        {
          "output_type": "stream",
          "text": [
            "Requirement already satisfied: contractions in /usr/local/lib/python3.6/dist-packages (0.0.24)\n",
            "Requirement already satisfied: textsearch in /usr/local/lib/python3.6/dist-packages (from contractions) (0.0.17)\n",
            "Requirement already satisfied: Unidecode in /usr/local/lib/python3.6/dist-packages (from textsearch->contractions) (1.1.1)\n",
            "Requirement already satisfied: pyahocorasick in /usr/local/lib/python3.6/dist-packages (from textsearch->contractions) (1.4.0)\n",
            "Requirement already satisfied: textsearch in /usr/local/lib/python3.6/dist-packages (0.0.17)\n",
            "Requirement already satisfied: pyahocorasick in /usr/local/lib/python3.6/dist-packages (from textsearch) (1.4.0)\n",
            "Requirement already satisfied: Unidecode in /usr/local/lib/python3.6/dist-packages (from textsearch) (1.1.1)\n",
            "[nltk_data] Downloading package stopwords to /root/nltk_data...\n",
            "[nltk_data]   Package stopwords is already up-to-date!\n",
            "[nltk_data] Downloading package punkt to /root/nltk_data...\n",
            "[nltk_data]   Package punkt is already up-to-date!\n",
            "[nltk_data] Downloading package wordnet to /root/nltk_data...\n",
            "[nltk_data]   Unzipping corpora/wordnet.zip.\n"
          ],
          "name": "stdout"
        },
        {
          "output_type": "execute_result",
          "data": {
            "text/plain": [
              "True"
            ]
          },
          "metadata": {
            "tags": []
          },
          "execution_count": 213
        }
      ]
    },
    {
      "cell_type": "code",
      "metadata": {
        "id": "-1akYh8WGolA",
        "colab_type": "code",
        "colab": {}
      },
      "source": [
        ""
      ],
      "execution_count": 0,
      "outputs": []
    },
    {
      "cell_type": "markdown",
      "metadata": {
        "id": "2IsLsgLqGTcf",
        "colab_type": "text"
      },
      "source": [
        "# Data Loading"
      ]
    },
    {
      "cell_type": "code",
      "metadata": {
        "id": "v_oBAlxdGjGb",
        "colab_type": "code",
        "colab": {}
      },
      "source": [
        "df = pd.read_csv('/content/Data.csv')"
      ],
      "execution_count": 0,
      "outputs": []
    },
    {
      "cell_type": "code",
      "metadata": {
        "id": "d4F8rVGeICBP",
        "colab_type": "code",
        "colab": {
          "base_uri": "https://localhost:8080/",
          "height": 195
        },
        "outputId": "b69bf5ec-0d14-4075-da89-996592f2273c"
      },
      "source": [
        "df.head()"
      ],
      "execution_count": 53,
      "outputs": [
        {
          "output_type": "execute_result",
          "data": {
            "text/html": [
              "<div>\n",
              "<style scoped>\n",
              "    .dataframe tbody tr th:only-of-type {\n",
              "        vertical-align: middle;\n",
              "    }\n",
              "\n",
              "    .dataframe tbody tr th {\n",
              "        vertical-align: top;\n",
              "    }\n",
              "\n",
              "    .dataframe thead th {\n",
              "        text-align: right;\n",
              "    }\n",
              "</style>\n",
              "<table border=\"1\" class=\"dataframe\">\n",
              "  <thead>\n",
              "    <tr style=\"text-align: right;\">\n",
              "      <th></th>\n",
              "      <th>tweet_id</th>\n",
              "      <th>sentiment</th>\n",
              "      <th>name</th>\n",
              "      <th>text</th>\n",
              "      <th>tweet_created</th>\n",
              "      <th>tweet_location</th>\n",
              "      <th>user_timezone</th>\n",
              "    </tr>\n",
              "  </thead>\n",
              "  <tbody>\n",
              "    <tr>\n",
              "      <th>0</th>\n",
              "      <td>1</td>\n",
              "      <td>neutral</td>\n",
              "      <td>cairdin</td>\n",
              "      <td>What @dhepburn said.</td>\n",
              "      <td>24/02/15 11:35</td>\n",
              "      <td>NaN</td>\n",
              "      <td>Eastern Time (US &amp; Canada)</td>\n",
              "    </tr>\n",
              "    <tr>\n",
              "      <th>1</th>\n",
              "      <td>2</td>\n",
              "      <td>positive</td>\n",
              "      <td>jnardino</td>\n",
              "      <td>plus you've added commercials to the experienc...</td>\n",
              "      <td>24/02/15 11:15</td>\n",
              "      <td>NaN</td>\n",
              "      <td>Pacific Time (US &amp; Canada)</td>\n",
              "    </tr>\n",
              "    <tr>\n",
              "      <th>2</th>\n",
              "      <td>3</td>\n",
              "      <td>neutral</td>\n",
              "      <td>yvonnalynn</td>\n",
              "      <td>I didn't today... Must mean I need to take ano...</td>\n",
              "      <td>24/02/15 11:15</td>\n",
              "      <td>Lets Play</td>\n",
              "      <td>Central Time (US &amp; Canada)</td>\n",
              "    </tr>\n",
              "    <tr>\n",
              "      <th>3</th>\n",
              "      <td>4</td>\n",
              "      <td>negative</td>\n",
              "      <td>jnardino</td>\n",
              "      <td>it's really aggressive to blast obnoxious \"ent...</td>\n",
              "      <td>24/02/15 11:15</td>\n",
              "      <td>NaN</td>\n",
              "      <td>Pacific Time (US &amp; Canada)</td>\n",
              "    </tr>\n",
              "    <tr>\n",
              "      <th>4</th>\n",
              "      <td>5</td>\n",
              "      <td>negative</td>\n",
              "      <td>jnardino</td>\n",
              "      <td>and it's a really big bad thing about it</td>\n",
              "      <td>24/02/15 11:14</td>\n",
              "      <td>NaN</td>\n",
              "      <td>Pacific Time (US &amp; Canada)</td>\n",
              "    </tr>\n",
              "  </tbody>\n",
              "</table>\n",
              "</div>"
            ],
            "text/plain": [
              "   tweet_id sentiment  ... tweet_location               user_timezone\n",
              "0         1   neutral  ...            NaN  Eastern Time (US & Canada)\n",
              "1         2  positive  ...            NaN  Pacific Time (US & Canada)\n",
              "2         3   neutral  ...      Lets Play  Central Time (US & Canada)\n",
              "3         4  negative  ...            NaN  Pacific Time (US & Canada)\n",
              "4         5  negative  ...            NaN  Pacific Time (US & Canada)\n",
              "\n",
              "[5 rows x 7 columns]"
            ]
          },
          "metadata": {
            "tags": []
          },
          "execution_count": 53
        }
      ]
    },
    {
      "cell_type": "markdown",
      "metadata": {
        "id": "AOag_XOLJA3T",
        "colab_type": "text"
      },
      "source": [
        "# Data Descriptive Analysis"
      ]
    },
    {
      "cell_type": "markdown",
      "metadata": {
        "id": "zATElOVOKnHD",
        "colab_type": "text"
      },
      "source": [
        "Data shape & % of Missing values"
      ]
    },
    {
      "cell_type": "code",
      "metadata": {
        "id": "pwZvRuDMJKhz",
        "colab_type": "code",
        "colab": {
          "base_uri": "https://localhost:8080/",
          "height": 185
        },
        "outputId": "d73c6f32-22d6-4bba-ba76-4d2a5e2824c0"
      },
      "source": [
        "print(\"Dataset shape\",df.shape)\n",
        "print(\"% of Null values \\n\", (df.isna().sum()/len(df))*100)"
      ],
      "execution_count": 54,
      "outputs": [
        {
          "output_type": "stream",
          "text": [
            "Dataset shape (14640, 7)\n",
            "% of Null values \n",
            " tweet_id           0.000000\n",
            "sentiment          0.000000\n",
            "name               0.000000\n",
            "text               0.000000\n",
            "tweet_created      0.000000\n",
            "tweet_location    32.329235\n",
            "user_timezone     32.923497\n",
            "dtype: float64\n"
          ],
          "name": "stdout"
        }
      ]
    },
    {
      "cell_type": "markdown",
      "metadata": {
        "id": "QoiQhH56Nuli",
        "colab_type": "text"
      },
      "source": [
        "Check for duplicate data"
      ]
    },
    {
      "cell_type": "code",
      "metadata": {
        "id": "p6wszljNNyAi",
        "colab_type": "code",
        "colab": {
          "base_uri": "https://localhost:8080/",
          "height": 34
        },
        "outputId": "d213f0d7-0241-40ba-f6a3-f04dceb4f028"
      },
      "source": [
        "def chk_duplicate_clean():\n",
        "    dup = df[df.duplicated()].copy()\n",
        "    print('duplicate observations- ', dup.shape[0])\n",
        "    df.drop_duplicates(keep='first',inplace=True) \n",
        "    if dup.shape[0] >0 :\n",
        "          return dup\n",
        "\n",
        "chk_duplicate_clean()"
      ],
      "execution_count": 55,
      "outputs": [
        {
          "output_type": "stream",
          "text": [
            "duplicate observations-  0\n"
          ],
          "name": "stdout"
        }
      ]
    },
    {
      "cell_type": "markdown",
      "metadata": {
        "id": "HIK11zrJLG03",
        "colab_type": "text"
      },
      "source": [
        "Check for class balance"
      ]
    },
    {
      "cell_type": "code",
      "metadata": {
        "id": "gJcBPIjvLDz-",
        "colab_type": "code",
        "colab": {
          "base_uri": "https://localhost:8080/",
          "height": 346
        },
        "outputId": "feb3b218-70f6-40b8-93a0-f5adf72c75fe"
      },
      "source": [
        "def chk_classBalance(target_col):\n",
        "    print(df[target_col].value_counts())\n",
        "    sns.countplot(df[target_col])\n",
        "\n",
        "chk_classBalance('sentiment')"
      ],
      "execution_count": 56,
      "outputs": [
        {
          "output_type": "stream",
          "text": [
            "negative    9178\n",
            "neutral     3099\n",
            "positive    2363\n",
            "Name: sentiment, dtype: int64\n"
          ],
          "name": "stdout"
        },
        {
          "output_type": "display_data",
          "data": {
            "image/png": "[encoded data removed]",
            "text/plain": [
              "<Figure size 432x288 with 1 Axes>"
            ]
          },
          "metadata": {
            "tags": []
          }
        }
      ]
    },
    {
      "cell_type": "code",
      "metadata": {
        "id": "-dczue89R8ea",
        "colab_type": "code",
        "colab": {
          "base_uri": "https://localhost:8080/",
          "height": 151
        },
        "outputId": "94fec61a-c1c5-4d55-b018-8451138ff1d4"
      },
      "source": [
        "df.dtypes"
      ],
      "execution_count": 57,
      "outputs": [
        {
          "output_type": "execute_result",
          "data": {
            "text/plain": [
              "tweet_id           int64\n",
              "sentiment         object\n",
              "name              object\n",
              "text              object\n",
              "tweet_created     object\n",
              "tweet_location    object\n",
              "user_timezone     object\n",
              "dtype: object"
            ]
          },
          "metadata": {
            "tags": []
          },
          "execution_count": 57
        }
      ]
    },
    {
      "cell_type": "markdown",
      "metadata": {
        "id": "kefwGsDoTiLR",
        "colab_type": "text"
      },
      "source": [
        "# Data pre-Processing"
      ]
    },
    {
      "cell_type": "code",
      "metadata": {
        "id": "H_UjFT8xTlb9",
        "colab_type": "code",
        "colab": {}
      },
      "source": [
        "# remove accented character\n",
        "def remove_accented_chars(text):\n",
        "    text = unicodedata.normalize('NFKD', text).encode('ascii', 'ignore').decode('utf-8', 'ignore')\n",
        "    return text\n",
        "  \n",
        "# Remove special charcters\n",
        "def remove_special_characters(text):\n",
        "      # remove special characters, numbers, punctuations\n",
        "      pattern = r'[^a-zA-Z#\\s]'\n",
        "      text = re.sub(pattern, '', text)\n",
        "      return text\n",
        "\n",
        "# function to collect hashtags\n",
        "def extract_hashtags(text):\n",
        "    tags = (re.findall(r\"#(\\w+)\", text))\n",
        "    return len(tags)\n",
        "\n",
        "# Remove special charcters\n",
        "def replace_tags(text):\n",
        "      text = re.sub('#', '', text)\n",
        "      return text\n",
        "  \n",
        "# Expand contractions\n",
        "def expand_contractions(text):\n",
        "  text = contractions.fix(text)\n",
        "  return text\n",
        "\n",
        "# no of bold words\n",
        "def extract_bolds(text):\n",
        "    tags = (re.findall(r\"(A-Z+)\", text))\n",
        "    return tags\n",
        "\n",
        "# Remove stop words and word size <3\n",
        "def remove_stopwords(text):\n",
        "    stopwords = nltk.corpus.stopwords.words('english')\n",
        "    tokens = nltk.word_tokenize(text)\n",
        "    filtered_tokens = [token for token in tokens if (token not in stopwords and len(token) >=3)]\n",
        "    filtered_text = ' '.join(filtered_tokens)    \n",
        "    return filtered_text\n",
        "\n",
        "# Remove urls\n",
        "def remove_urls(text):\n",
        "    no_urlText = re.sub(r'^https?:\\/\\/.*[\\r\\n]*', '', text, flags=re.MULTILINE)\n",
        "    return no_urlText \n",
        "\n",
        "# Lower casing of tweets\n",
        "def covert_lowerCase(text):\n",
        "  text = text.lower()\n",
        "  return text\n",
        "\n",
        "# Lemmatize text\n",
        "def lemmatize_text(text):\n",
        "    word_tokens = word_tokenize(text)\n",
        "    wl= WordNetLemmatizer()\n",
        "    text = ' '.join([wl.lemmatize(word, pos=\"v\") for word in word_tokens])\n",
        "    return text\n"
      ],
      "execution_count": 0,
      "outputs": []
    },
    {
      "cell_type": "code",
      "metadata": {
        "id": "ai8fKsSh7Jar",
        "colab_type": "code",
        "colab": {
          "base_uri": "https://localhost:8080/",
          "height": 50
        },
        "outputId": "64ecd916-22fe-4916-e124-2e8d0197921c"
      },
      "source": [
        "#remove_accented_chars('Sómě Áccěntěd těxt')\n",
        "#remove_special_characters('hshs #jsj k12 13 #@ !$')\n",
        "#extract_hashtags ('hshs #jsj k12 13 @ !$')\n",
        "#replace_tags('hshs #jsj k12 13 #@ !$')\n",
        "#remove_contractions('''plus you've added commercials to the experience... tacky.''')\n",
        "#re.findall(r\"#(\\w+)\", 'sjdadnsd @sd ksksk')\n",
        "#extract_bolds('sjda AS a')\n",
        "#remove_stopwords ('Hi hello are you a friend of mr.jja can you please help yourself in finding a seat in room 23')\n",
        "spacy_lemmatize_text('Hi running changing taken harder')\n",
        "lemmatize_text ('Hi running changing taken harder')\n",
        "\n"
      ],
      "execution_count": 214,
      "outputs": [
        {
          "output_type": "stream",
          "text": [
            "hi run change take harder\n",
            "Hi run change take harder\n"
          ],
          "name": "stdout"
        }
      ]
    },
    {
      "cell_type": "code",
      "metadata": {
        "id": "vhEs8aYY2qb7",
        "colab_type": "code",
        "colab": {}
      },
      "source": [
        "df = pd.read_csv('/content/Data.csv')\n",
        "df['tidy_text'] = np.vectorize(remove_accented_chars)(df['text'])\n",
        "df['tidy_text'] = np.vectorize(remove_special_characters)(df['tidy_text'])\n",
        "df['no_tags'] = np.vectorize(extract_hashtags)(df['text'])\n",
        "df['tidy_text'] = np.vectorize(replace_tags)(df['tidy_text'])\n",
        "df['tidy_text'] = np.vectorize(remove_contractions)(df['tidy_text'])\n",
        "df['tidy_text'] = df.tidy_text.apply(remove_stopwords)\n",
        "df['tidy_text'] = df.tidy_text.apply(remove_urls)\n",
        "df['tidy_text'] = df.tidy_text.apply(covert_lowerCase)\n",
        "df['lemma_text'] = df.tidy_text.apply(lemmatize_text)"
      ],
      "execution_count": 0,
      "outputs": []
    },
    {
      "cell_type": "code",
      "metadata": {
        "id": "NVh2R72Qz56F",
        "colab_type": "code",
        "colab": {
          "base_uri": "https://localhost:8080/",
          "height": 279
        },
        "outputId": "f206d7d4-6230-4f15-d6e7-04f3a1367b24"
      },
      "source": [
        "df.head()"
      ],
      "execution_count": 216,
      "outputs": [
        {
          "output_type": "execute_result",
          "data": {
            "text/html": [
              "<div>\n",
              "<style scoped>\n",
              "    .dataframe tbody tr th:only-of-type {\n",
              "        vertical-align: middle;\n",
              "    }\n",
              "\n",
              "    .dataframe tbody tr th {\n",
              "        vertical-align: top;\n",
              "    }\n",
              "\n",
              "    .dataframe thead th {\n",
              "        text-align: right;\n",
              "    }\n",
              "</style>\n",
              "<table border=\"1\" class=\"dataframe\">\n",
              "  <thead>\n",
              "    <tr style=\"text-align: right;\">\n",
              "      <th></th>\n",
              "      <th>tweet_id</th>\n",
              "      <th>sentiment</th>\n",
              "      <th>name</th>\n",
              "      <th>text</th>\n",
              "      <th>tweet_created</th>\n",
              "      <th>tweet_location</th>\n",
              "      <th>user_timezone</th>\n",
              "      <th>tidy_text</th>\n",
              "      <th>no_tags</th>\n",
              "      <th>lemma_text</th>\n",
              "    </tr>\n",
              "  </thead>\n",
              "  <tbody>\n",
              "    <tr>\n",
              "      <th>0</th>\n",
              "      <td>1</td>\n",
              "      <td>neutral</td>\n",
              "      <td>cairdin</td>\n",
              "      <td>What @dhepburn said.</td>\n",
              "      <td>24/02/15 11:35</td>\n",
              "      <td>NaN</td>\n",
              "      <td>Eastern Time (US &amp; Canada)</td>\n",
              "      <td>what dhepburn said</td>\n",
              "      <td>0</td>\n",
              "      <td>None</td>\n",
              "    </tr>\n",
              "    <tr>\n",
              "      <th>1</th>\n",
              "      <td>2</td>\n",
              "      <td>positive</td>\n",
              "      <td>jnardino</td>\n",
              "      <td>plus you've added commercials to the experienc...</td>\n",
              "      <td>24/02/15 11:15</td>\n",
              "      <td>NaN</td>\n",
              "      <td>Pacific Time (US &amp; Canada)</td>\n",
              "      <td>plus added commercials experience tacky</td>\n",
              "      <td>0</td>\n",
              "      <td>None</td>\n",
              "    </tr>\n",
              "    <tr>\n",
              "      <th>2</th>\n",
              "      <td>3</td>\n",
              "      <td>neutral</td>\n",
              "      <td>yvonnalynn</td>\n",
              "      <td>I didn't today... Must mean I need to take ano...</td>\n",
              "      <td>24/02/15 11:15</td>\n",
              "      <td>Lets Play</td>\n",
              "      <td>Central Time (US &amp; Canada)</td>\n",
              "      <td>today must mean need take another trip</td>\n",
              "      <td>0</td>\n",
              "      <td>None</td>\n",
              "    </tr>\n",
              "    <tr>\n",
              "      <th>3</th>\n",
              "      <td>4</td>\n",
              "      <td>negative</td>\n",
              "      <td>jnardino</td>\n",
              "      <td>it's really aggressive to blast obnoxious \"ent...</td>\n",
              "      <td>24/02/15 11:15</td>\n",
              "      <td>NaN</td>\n",
              "      <td>Pacific Time (US &amp; Canada)</td>\n",
              "      <td>really aggressive blast obnoxious entertainmen...</td>\n",
              "      <td>0</td>\n",
              "      <td>None</td>\n",
              "    </tr>\n",
              "    <tr>\n",
              "      <th>4</th>\n",
              "      <td>5</td>\n",
              "      <td>negative</td>\n",
              "      <td>jnardino</td>\n",
              "      <td>and it's a really big bad thing about it</td>\n",
              "      <td>24/02/15 11:14</td>\n",
              "      <td>NaN</td>\n",
              "      <td>Pacific Time (US &amp; Canada)</td>\n",
              "      <td>really big bad thing</td>\n",
              "      <td>0</td>\n",
              "      <td>None</td>\n",
              "    </tr>\n",
              "  </tbody>\n",
              "</table>\n",
              "</div>"
            ],
            "text/plain": [
              "   tweet_id sentiment  ... no_tags lemma_text\n",
              "0         1   neutral  ...       0       None\n",
              "1         2  positive  ...       0       None\n",
              "2         3   neutral  ...       0       None\n",
              "3         4  negative  ...       0       None\n",
              "4         5  negative  ...       0       None\n",
              "\n",
              "[5 rows x 10 columns]"
            ]
          },
          "metadata": {
            "tags": []
          },
          "execution_count": 216
        }
      ]
    },
    {
      "cell_type": "code",
      "metadata": {
        "id": "IbathOn9GLWI",
        "colab_type": "code",
        "colab": {}
      },
      "source": [
        "\n"
      ],
      "execution_count": 0,
      "outputs": []
    },
    {
      "cell_type": "code",
      "metadata": {
        "id": "VPcAWpAWJRpC",
        "colab_type": "code",
        "colab": {
          "base_uri": "https://localhost:8080/",
          "height": 34
        },
        "outputId": "a11d6b9c-c353-4d72-890b-44d273c89f8a"
      },
      "source": [
        ""
      ],
      "execution_count": 124,
      "outputs": [
        {
          "output_type": "execute_result",
          "data": {
            "text/plain": [
              "'are not'"
            ]
          },
          "metadata": {
            "tags": []
          },
          "execution_count": 124
        }
      ]
    },
    {
      "cell_type": "code",
      "metadata": {
        "id": "UNUfUq45D5Ll",
        "colab_type": "code",
        "colab": {}
      },
      "source": [
        "#data processing"
      ],
      "execution_count": 0,
      "outputs": []
    },
    {
      "cell_type": "code",
      "metadata": {
        "id": "ONVSWLlfEL7S",
        "colab_type": "code",
        "colab": {}
      },
      "source": [
        "#data visualization"
      ],
      "execution_count": 0,
      "outputs": []
    },
    {
      "cell_type": "code",
      "metadata": {
        "id": "NLjZ8EGbESJg",
        "colab_type": "code",
        "colab": {}
      },
      "source": [
        "#model building"
      ],
      "execution_count": 0,
      "outputs": []
    },
    {
      "cell_type": "code",
      "metadata": {
        "id": "V3Snpx34EV6b",
        "colab_type": "code",
        "colab": {}
      },
      "source": [
        "#model Evaluation"
      ],
      "execution_count": 0,
      "outputs": []
    },
    {
      "cell_type": "code",
      "metadata": {
        "id": "AnXw-1EDEZVg",
        "colab_type": "code",
        "colab": {}
      },
      "source": [
        "#model efficacy"
      ],
      "execution_count": 0,
      "outputs": []
    },
    {
      "cell_type": "code",
      "metadata": {
        "id": "cZuZXHbKEhcN",
        "colab_type": "code",
        "colab": {}
      },
      "source": [
        "#model optimization"
      ],
      "execution_count": 0,
      "outputs": []
    },
    {
      "cell_type": "code",
      "metadata": {
        "id": "LjnDu3-JEmL5",
        "colab_type": "code",
        "colab": {}
      },
      "source": [
        "#visalization & summarization"
      ],
      "execution_count": 0,
      "outputs": []
    },
    {
      "cell_type": "code",
      "metadata": {
        "id": "xmLLzjLBEq-b",
        "colab_type": "code",
        "colab": {}
      },
      "source": [
        ""
      ],
      "execution_count": 0,
      "outputs": []
    }
  ]
}